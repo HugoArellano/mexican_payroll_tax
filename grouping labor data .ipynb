{
 "cells": [
  {
   "cell_type": "code",
   "execution_count": 1,
   "id": "834a055e",
   "metadata": {},
   "outputs": [],
   "source": [
    "import pandas as pd\n",
    "import numpy as np\n",
    "import glob"
   ]
  },
  {
   "cell_type": "code",
   "execution_count": 2,
   "id": "b792f153",
   "metadata": {},
   "outputs": [],
   "source": [
    "path = 'data/enoe/2021/'\n",
    "all_files = glob.glob(path + '/*.csv')"
   ]
  },
  {
   "cell_type": "code",
   "execution_count": 3,
   "id": "64b36450",
   "metadata": {},
   "outputs": [],
   "source": [
    "col_select = ['ent','ingocup','emp_ppal','clase2','clase3','sex','eda','eda7c','hrsocup',\n",
    "              'scian','ambito2','tue2']"
   ]
  },
  {
   "cell_type": "code",
   "execution_count": 4,
   "id": "aeefcd14",
   "metadata": {},
   "outputs": [
    {
     "name": "stderr",
     "output_type": "stream",
     "text": [
      "/tmp/ipykernel_17856/121383689.py:4: DtypeWarning: Columns (2,5,8,22,23,24,25,26,27,28) have mixed types. Specify dtype option on import or set low_memory=False.\n",
      "  df = pd.read_csv(filename, index_col=None, header=0, encoding = 'ISO-8859-1')\n",
      "/tmp/ipykernel_17856/121383689.py:4: DtypeWarning: Columns (2,5,8,22,23,24,25,26,27,28) have mixed types. Specify dtype option on import or set low_memory=False.\n",
      "  df = pd.read_csv(filename, index_col=None, header=0, encoding = 'ISO-8859-1')\n",
      "/tmp/ipykernel_17856/121383689.py:4: DtypeWarning: Columns (2,5,8,22,23,24,25,26,27,28) have mixed types. Specify dtype option on import or set low_memory=False.\n",
      "  df = pd.read_csv(filename, index_col=None, header=0, encoding = 'ISO-8859-1')\n",
      "/tmp/ipykernel_17856/121383689.py:4: DtypeWarning: Columns (39) have mixed types. Specify dtype option on import or set low_memory=False.\n",
      "  df = pd.read_csv(filename, index_col=None, header=0, encoding = 'ISO-8859-1')\n"
     ]
    }
   ],
   "source": [
    "li = []\n",
    "\n",
    "for filename in all_files:\n",
    "    df = pd.read_csv(filename, index_col=None, header=0, encoding = 'ISO-8859-1')\n",
    "    df.columns = map(str.lower, df.columns)\n",
    "    df = df[col_select]\n",
    "   \n",
    "    df = df[(df['clase2'] == 1) & (df['ingocup']>0)]\n",
    "    df['ingocup_y'] = df['ingocup']*12\n",
    "    \n",
    "    df['ambito2'] = df['ambito2'].replace({2:'micronegocios',3:'micronegocios',\n",
    "                                          4:'pequeños',5:'medianos',6:'grandes',\n",
    "                                          7:'gobierno',8:'otros'})\n",
    "    \n",
    "    df['emp_ppal'] = df['emp_ppal'].replace({1:'informal',2:'formal'})\n",
    "    \n",
    "    df['tue2'] = df['tue2'].replace({1:'empresas en sociedad y corporativas',\n",
    "                                    2:'negocios no costituidos en sociedad',\n",
    "                                    3:'privadas', 4:'publicas', 5:'sector informal',\n",
    "                                     6:'domestico remunerado', 7:'agricultura de subsistencia'\n",
    "                                    })\n",
    "    \n",
    "    df['sex'] = df['sex'].replace({1:'hombre', 2:'mujer'})\n",
    "    \n",
    "    df[\"scian\"] = df[\"scian\"].replace({1: \"agricultura, ganaderia, pesca, etc\",2:\"mineria\",\n",
    "                                                    3:\"electricidad, agua y gas\", 4:\"construccion\",\n",
    "                                                    5:\"industrias manufactureras\", 6:\"comercio al por mayor\",\n",
    "                                                    7:\"comercio al por menor\", 8:\"transportes, correos y almacenamiento\",\n",
    "                                                    9:\"informacion en medios masivos\", 10:\"servicios financieros y de seguros\",\n",
    "                                                    11:\"servicios inmobiliarios y de alquiler\",\n",
    "                                                    12:\"servicios profesionales cientificos y tecnicos\",\n",
    "                                                    13:\"corporativos\", 14:\"servicios de apoyo a los negocios y manejo de desechos\",\n",
    "                                                    15:\"servicios educativos\",16:\"servicios de salud y asistencia social\",\n",
    "                                                    17:\"servicios de esparcimiento, culturales y deportivos\",\n",
    "                                                    18:\"servicios de hospedaje y preparacion de alimentos y bebidas\", \n",
    "                                                    19:\"otros servicios, excepto actividades gubernamentales\",\n",
    "                                                    20:\"actividades gubernamentales y de organismos internacionales\",\n",
    "                                                    21:\"no especificado\" })\n",
    "    \n",
    "    #df['anio'] = 2005\n",
    "    \n",
    "    li.append(df)"
   ]
  },
  {
   "cell_type": "code",
   "execution_count": 5,
   "id": "404c7320",
   "metadata": {},
   "outputs": [],
   "source": [
    "from functools import reduce\n",
    "\n",
    "df_emp05 = reduce(lambda left, right: pd.concat(li),li)"
   ]
  },
  {
   "cell_type": "code",
   "execution_count": 6,
   "id": "73e7625f",
   "metadata": {},
   "outputs": [
    {
     "data": {
      "text/plain": [
       "(488938, 13)"
      ]
     },
     "execution_count": 6,
     "metadata": {},
     "output_type": "execute_result"
    }
   ],
   "source": [
    "df_emp05.shape"
   ]
  },
  {
   "cell_type": "code",
   "execution_count": 7,
   "id": "f6bb639e",
   "metadata": {},
   "outputs": [],
   "source": [
    "df_emp05['one'] = 1"
   ]
  },
  {
   "cell_type": "markdown",
   "id": "5aa2029e",
   "metadata": {},
   "source": [
    "## Pivot tables by labour subject"
   ]
  },
  {
   "cell_type": "code",
   "execution_count": 8,
   "id": "f9a32364",
   "metadata": {},
   "outputs": [],
   "source": [
    "eu_size = pd.pivot_table(df_emp05, values =['one'], index=['ent'],\n",
    "                        columns=['ambito2'], aggfunc = np.count_nonzero)"
   ]
  },
  {
   "cell_type": "code",
   "execution_count": 9,
   "id": "525f0631",
   "metadata": {},
   "outputs": [],
   "source": [
    "formal_ocup = pd.pivot_table(df_emp05, values = ['one'], index=['ent'],\n",
    "                        columns=['emp_ppal'], aggfunc = np.count_nonzero)"
   ]
  },
  {
   "cell_type": "code",
   "execution_count": 10,
   "id": "c58ec2e5",
   "metadata": {},
   "outputs": [],
   "source": [
    "income_by_for = pd.pivot_table(df_emp05, values = ['ingocup_y'], index=['ent'],\n",
    "                        columns=['emp_ppal'], aggfunc = np.mean)"
   ]
  },
  {
   "cell_type": "markdown",
   "id": "e9d2d58e",
   "metadata": {},
   "source": [
    "## Economic units by size"
   ]
  },
  {
   "cell_type": "code",
   "execution_count": 11,
   "id": "100292cc",
   "metadata": {},
   "outputs": [
    {
     "data": {
      "text/html": [
       "<div>\n",
       "<style scoped>\n",
       "    .dataframe tbody tr th:only-of-type {\n",
       "        vertical-align: middle;\n",
       "    }\n",
       "\n",
       "    .dataframe tbody tr th {\n",
       "        vertical-align: top;\n",
       "    }\n",
       "\n",
       "    .dataframe thead tr th {\n",
       "        text-align: left;\n",
       "    }\n",
       "\n",
       "    .dataframe thead tr:last-of-type th {\n",
       "        text-align: right;\n",
       "    }\n",
       "</style>\n",
       "<table border=\"1\" class=\"dataframe\">\n",
       "  <thead>\n",
       "    <tr>\n",
       "      <th></th>\n",
       "      <th colspan=\"7\" halign=\"left\">one</th>\n",
       "    </tr>\n",
       "    <tr>\n",
       "      <th>ambito2</th>\n",
       "      <th>0</th>\n",
       "      <th>gobierno</th>\n",
       "      <th>grandes</th>\n",
       "      <th>medianos</th>\n",
       "      <th>micronegocios</th>\n",
       "      <th>otros</th>\n",
       "      <th>pequeños</th>\n",
       "    </tr>\n",
       "    <tr>\n",
       "      <th>ent</th>\n",
       "      <th></th>\n",
       "      <th></th>\n",
       "      <th></th>\n",
       "      <th></th>\n",
       "      <th></th>\n",
       "      <th></th>\n",
       "      <th></th>\n",
       "    </tr>\n",
       "  </thead>\n",
       "  <tbody>\n",
       "    <tr>\n",
       "      <th>1</th>\n",
       "      <td>2133</td>\n",
       "      <td>621</td>\n",
       "      <td>1970</td>\n",
       "      <td>1095</td>\n",
       "      <td>4009</td>\n",
       "      <td>515</td>\n",
       "      <td>1941</td>\n",
       "    </tr>\n",
       "  </tbody>\n",
       "</table>\n",
       "</div>"
      ],
      "text/plain": [
       "          one                                                       \n",
       "ambito2     0 gobierno grandes medianos micronegocios otros pequeños\n",
       "ent                                                                 \n",
       "1        2133      621    1970     1095          4009   515     1941"
      ]
     },
     "execution_count": 11,
     "metadata": {},
     "output_type": "execute_result"
    }
   ],
   "source": [
    "eu_size.head(1)"
   ]
  },
  {
   "cell_type": "code",
   "execution_count": 12,
   "id": "8292b0bd",
   "metadata": {},
   "outputs": [],
   "source": [
    "eu_size.columns = ['0','gobierno','grandes','medianos','micronegocios','otros','pequeños']"
   ]
  },
  {
   "cell_type": "code",
   "execution_count": 13,
   "id": "55e780a4",
   "metadata": {},
   "outputs": [],
   "source": [
    "columns = eu_size.columns"
   ]
  },
  {
   "cell_type": "code",
   "execution_count": 14,
   "id": "408f58a0",
   "metadata": {},
   "outputs": [],
   "source": [
    "eu_size['total'] = eu_size[columns].sum(axis=1)"
   ]
  },
  {
   "cell_type": "code",
   "execution_count": 15,
   "id": "a80c0fd6",
   "metadata": {},
   "outputs": [],
   "source": [
    "eu_size_pct = eu_size[['0','gobierno','grandes','medianos','micronegocios','otros','pequeños']].div(eu_size.total,axis=0)"
   ]
  },
  {
   "cell_type": "code",
   "execution_count": 16,
   "id": "9feb9d0e",
   "metadata": {},
   "outputs": [],
   "source": [
    "eu_size_pct = eu_size_pct.add_prefix('pct_')"
   ]
  },
  {
   "cell_type": "code",
   "execution_count": 17,
   "id": "5cec95a2",
   "metadata": {},
   "outputs": [
    {
     "data": {
      "text/html": [
       "<div>\n",
       "<style scoped>\n",
       "    .dataframe tbody tr th:only-of-type {\n",
       "        vertical-align: middle;\n",
       "    }\n",
       "\n",
       "    .dataframe tbody tr th {\n",
       "        vertical-align: top;\n",
       "    }\n",
       "\n",
       "    .dataframe thead th {\n",
       "        text-align: right;\n",
       "    }\n",
       "</style>\n",
       "<table border=\"1\" class=\"dataframe\">\n",
       "  <thead>\n",
       "    <tr style=\"text-align: right;\">\n",
       "      <th></th>\n",
       "      <th>pct_0</th>\n",
       "      <th>pct_gobierno</th>\n",
       "      <th>pct_grandes</th>\n",
       "      <th>pct_medianos</th>\n",
       "      <th>pct_micronegocios</th>\n",
       "      <th>pct_otros</th>\n",
       "      <th>pct_pequeños</th>\n",
       "    </tr>\n",
       "    <tr>\n",
       "      <th>ent</th>\n",
       "      <th></th>\n",
       "      <th></th>\n",
       "      <th></th>\n",
       "      <th></th>\n",
       "      <th></th>\n",
       "      <th></th>\n",
       "      <th></th>\n",
       "    </tr>\n",
       "  </thead>\n",
       "  <tbody>\n",
       "    <tr>\n",
       "      <th>1</th>\n",
       "      <td>0.173641</td>\n",
       "      <td>0.050554</td>\n",
       "      <td>0.160371</td>\n",
       "      <td>0.089140</td>\n",
       "      <td>0.326359</td>\n",
       "      <td>0.041924</td>\n",
       "      <td>0.158010</td>\n",
       "    </tr>\n",
       "    <tr>\n",
       "      <th>2</th>\n",
       "      <td>0.096170</td>\n",
       "      <td>0.024877</td>\n",
       "      <td>0.237459</td>\n",
       "      <td>0.103258</td>\n",
       "      <td>0.333424</td>\n",
       "      <td>0.040076</td>\n",
       "      <td>0.164736</td>\n",
       "    </tr>\n",
       "    <tr>\n",
       "      <th>3</th>\n",
       "      <td>0.115907</td>\n",
       "      <td>0.090909</td>\n",
       "      <td>0.074215</td>\n",
       "      <td>0.103884</td>\n",
       "      <td>0.375919</td>\n",
       "      <td>0.052504</td>\n",
       "      <td>0.186662</td>\n",
       "    </tr>\n",
       "    <tr>\n",
       "      <th>4</th>\n",
       "      <td>0.129656</td>\n",
       "      <td>0.076346</td>\n",
       "      <td>0.058032</td>\n",
       "      <td>0.088041</td>\n",
       "      <td>0.404457</td>\n",
       "      <td>0.056178</td>\n",
       "      <td>0.187290</td>\n",
       "    </tr>\n",
       "    <tr>\n",
       "      <th>5</th>\n",
       "      <td>0.038867</td>\n",
       "      <td>0.033200</td>\n",
       "      <td>0.245414</td>\n",
       "      <td>0.139098</td>\n",
       "      <td>0.331836</td>\n",
       "      <td>0.038993</td>\n",
       "      <td>0.172592</td>\n",
       "    </tr>\n",
       "  </tbody>\n",
       "</table>\n",
       "</div>"
      ],
      "text/plain": [
       "        pct_0  pct_gobierno  pct_grandes  pct_medianos  pct_micronegocios  \\\n",
       "ent                                                                         \n",
       "1    0.173641      0.050554     0.160371      0.089140           0.326359   \n",
       "2    0.096170      0.024877     0.237459      0.103258           0.333424   \n",
       "3    0.115907      0.090909     0.074215      0.103884           0.375919   \n",
       "4    0.129656      0.076346     0.058032      0.088041           0.404457   \n",
       "5    0.038867      0.033200     0.245414      0.139098           0.331836   \n",
       "\n",
       "     pct_otros  pct_pequeños  \n",
       "ent                           \n",
       "1     0.041924      0.158010  \n",
       "2     0.040076      0.164736  \n",
       "3     0.052504      0.186662  \n",
       "4     0.056178      0.187290  \n",
       "5     0.038993      0.172592  "
      ]
     },
     "execution_count": 17,
     "metadata": {},
     "output_type": "execute_result"
    }
   ],
   "source": [
    "eu_size_pct.head()"
   ]
  },
  {
   "cell_type": "markdown",
   "id": "9de2daea",
   "metadata": {},
   "source": [
    "## Job's formality"
   ]
  },
  {
   "cell_type": "code",
   "execution_count": 18,
   "id": "f29353db",
   "metadata": {},
   "outputs": [
    {
     "data": {
      "text/html": [
       "<div>\n",
       "<style scoped>\n",
       "    .dataframe tbody tr th:only-of-type {\n",
       "        vertical-align: middle;\n",
       "    }\n",
       "\n",
       "    .dataframe tbody tr th {\n",
       "        vertical-align: top;\n",
       "    }\n",
       "\n",
       "    .dataframe thead tr th {\n",
       "        text-align: left;\n",
       "    }\n",
       "\n",
       "    .dataframe thead tr:last-of-type th {\n",
       "        text-align: right;\n",
       "    }\n",
       "</style>\n",
       "<table border=\"1\" class=\"dataframe\">\n",
       "  <thead>\n",
       "    <tr>\n",
       "      <th></th>\n",
       "      <th colspan=\"2\" halign=\"left\">one</th>\n",
       "    </tr>\n",
       "    <tr>\n",
       "      <th>emp_ppal</th>\n",
       "      <th>formal</th>\n",
       "      <th>informal</th>\n",
       "    </tr>\n",
       "    <tr>\n",
       "      <th>ent</th>\n",
       "      <th></th>\n",
       "      <th></th>\n",
       "    </tr>\n",
       "  </thead>\n",
       "  <tbody>\n",
       "    <tr>\n",
       "      <th>1</th>\n",
       "      <td>6980</td>\n",
       "      <td>5304</td>\n",
       "    </tr>\n",
       "    <tr>\n",
       "      <th>2</th>\n",
       "      <td>9230</td>\n",
       "      <td>5442</td>\n",
       "    </tr>\n",
       "    <tr>\n",
       "      <th>3</th>\n",
       "      <td>7160</td>\n",
       "      <td>4401</td>\n",
       "    </tr>\n",
       "  </tbody>\n",
       "</table>\n",
       "</div>"
      ],
      "text/plain": [
       "            one         \n",
       "emp_ppal formal informal\n",
       "ent                     \n",
       "1          6980     5304\n",
       "2          9230     5442\n",
       "3          7160     4401"
      ]
     },
     "execution_count": 18,
     "metadata": {},
     "output_type": "execute_result"
    }
   ],
   "source": [
    "formal_ocup.head(3)"
   ]
  },
  {
   "cell_type": "code",
   "execution_count": 19,
   "id": "21ac5671",
   "metadata": {},
   "outputs": [],
   "source": [
    "formal_ocup.columns = ['informal','formal']"
   ]
  },
  {
   "cell_type": "code",
   "execution_count": 20,
   "id": "3457a730",
   "metadata": {},
   "outputs": [],
   "source": [
    "columns = formal_ocup.columns"
   ]
  },
  {
   "cell_type": "code",
   "execution_count": 21,
   "id": "4f0b99cb",
   "metadata": {},
   "outputs": [],
   "source": [
    "formal_ocup['total'] = formal_ocup[columns].sum(axis=1)"
   ]
  },
  {
   "cell_type": "code",
   "execution_count": 22,
   "id": "64802ea4",
   "metadata": {},
   "outputs": [],
   "source": [
    "formal_pct = formal_ocup[['informal', 'formal']].div(formal_ocup.total,axis=0)"
   ]
  },
  {
   "cell_type": "code",
   "execution_count": 23,
   "id": "4351c58d",
   "metadata": {},
   "outputs": [
    {
     "data": {
      "text/html": [
       "<div>\n",
       "<style scoped>\n",
       "    .dataframe tbody tr th:only-of-type {\n",
       "        vertical-align: middle;\n",
       "    }\n",
       "\n",
       "    .dataframe tbody tr th {\n",
       "        vertical-align: top;\n",
       "    }\n",
       "\n",
       "    .dataframe thead th {\n",
       "        text-align: right;\n",
       "    }\n",
       "</style>\n",
       "<table border=\"1\" class=\"dataframe\">\n",
       "  <thead>\n",
       "    <tr style=\"text-align: right;\">\n",
       "      <th></th>\n",
       "      <th>informal</th>\n",
       "      <th>formal</th>\n",
       "    </tr>\n",
       "    <tr>\n",
       "      <th>ent</th>\n",
       "      <th></th>\n",
       "      <th></th>\n",
       "    </tr>\n",
       "  </thead>\n",
       "  <tbody>\n",
       "    <tr>\n",
       "      <th>1</th>\n",
       "      <td>0.568219</td>\n",
       "      <td>0.431781</td>\n",
       "    </tr>\n",
       "  </tbody>\n",
       "</table>\n",
       "</div>"
      ],
      "text/plain": [
       "     informal    formal\n",
       "ent                    \n",
       "1    0.568219  0.431781"
      ]
     },
     "execution_count": 23,
     "metadata": {},
     "output_type": "execute_result"
    }
   ],
   "source": [
    "formal_pct.head(1)"
   ]
  },
  {
   "cell_type": "code",
   "execution_count": 24,
   "id": "d7d4c2a6",
   "metadata": {},
   "outputs": [],
   "source": [
    "formal_pct = formal_pct.add_prefix('pct_pob_')"
   ]
  },
  {
   "cell_type": "markdown",
   "id": "00f783f5",
   "metadata": {},
   "source": [
    "## Income by formality condition"
   ]
  },
  {
   "cell_type": "code",
   "execution_count": 25,
   "id": "37a8dc8a",
   "metadata": {},
   "outputs": [
    {
     "data": {
      "text/html": [
       "<div>\n",
       "<style scoped>\n",
       "    .dataframe tbody tr th:only-of-type {\n",
       "        vertical-align: middle;\n",
       "    }\n",
       "\n",
       "    .dataframe tbody tr th {\n",
       "        vertical-align: top;\n",
       "    }\n",
       "\n",
       "    .dataframe thead tr th {\n",
       "        text-align: left;\n",
       "    }\n",
       "\n",
       "    .dataframe thead tr:last-of-type th {\n",
       "        text-align: right;\n",
       "    }\n",
       "</style>\n",
       "<table border=\"1\" class=\"dataframe\">\n",
       "  <thead>\n",
       "    <tr>\n",
       "      <th></th>\n",
       "      <th colspan=\"2\" halign=\"left\">ingocup_y</th>\n",
       "    </tr>\n",
       "    <tr>\n",
       "      <th>emp_ppal</th>\n",
       "      <th>formal</th>\n",
       "      <th>informal</th>\n",
       "    </tr>\n",
       "    <tr>\n",
       "      <th>ent</th>\n",
       "      <th></th>\n",
       "      <th></th>\n",
       "    </tr>\n",
       "  </thead>\n",
       "  <tbody>\n",
       "    <tr>\n",
       "      <th>1</th>\n",
       "      <td>104464.590258</td>\n",
       "      <td>67087.653846</td>\n",
       "    </tr>\n",
       "  </tbody>\n",
       "</table>\n",
       "</div>"
      ],
      "text/plain": [
       "              ingocup_y              \n",
       "emp_ppal         formal      informal\n",
       "ent                                  \n",
       "1         104464.590258  67087.653846"
      ]
     },
     "execution_count": 25,
     "metadata": {},
     "output_type": "execute_result"
    }
   ],
   "source": [
    "income_by_for.head(1)"
   ]
  },
  {
   "cell_type": "code",
   "execution_count": 26,
   "id": "236f07cd",
   "metadata": {},
   "outputs": [],
   "source": [
    "income_by_for.columns = ['informal','formal']"
   ]
  },
  {
   "cell_type": "code",
   "execution_count": 27,
   "id": "6ec26111",
   "metadata": {},
   "outputs": [],
   "source": [
    "columns = income_by_for.columns"
   ]
  },
  {
   "cell_type": "code",
   "execution_count": 28,
   "id": "9cf77166",
   "metadata": {},
   "outputs": [
    {
     "data": {
      "text/html": [
       "<div>\n",
       "<style scoped>\n",
       "    .dataframe tbody tr th:only-of-type {\n",
       "        vertical-align: middle;\n",
       "    }\n",
       "\n",
       "    .dataframe tbody tr th {\n",
       "        vertical-align: top;\n",
       "    }\n",
       "\n",
       "    .dataframe thead th {\n",
       "        text-align: right;\n",
       "    }\n",
       "</style>\n",
       "<table border=\"1\" class=\"dataframe\">\n",
       "  <thead>\n",
       "    <tr style=\"text-align: right;\">\n",
       "      <th></th>\n",
       "      <th>informal</th>\n",
       "      <th>formal</th>\n",
       "    </tr>\n",
       "    <tr>\n",
       "      <th>ent</th>\n",
       "      <th></th>\n",
       "      <th></th>\n",
       "    </tr>\n",
       "  </thead>\n",
       "  <tbody>\n",
       "    <tr>\n",
       "      <th>1</th>\n",
       "      <td>104464.590258</td>\n",
       "      <td>67087.653846</td>\n",
       "    </tr>\n",
       "    <tr>\n",
       "      <th>2</th>\n",
       "      <td>129140.476706</td>\n",
       "      <td>89785.501654</td>\n",
       "    </tr>\n",
       "    <tr>\n",
       "      <th>3</th>\n",
       "      <td>148955.458659</td>\n",
       "      <td>94623.700068</td>\n",
       "    </tr>\n",
       "    <tr>\n",
       "      <th>4</th>\n",
       "      <td>131731.112296</td>\n",
       "      <td>63797.359075</td>\n",
       "    </tr>\n",
       "    <tr>\n",
       "      <th>5</th>\n",
       "      <td>118941.879737</td>\n",
       "      <td>74832.295665</td>\n",
       "    </tr>\n",
       "  </tbody>\n",
       "</table>\n",
       "</div>"
      ],
      "text/plain": [
       "          informal        formal\n",
       "ent                             \n",
       "1    104464.590258  67087.653846\n",
       "2    129140.476706  89785.501654\n",
       "3    148955.458659  94623.700068\n",
       "4    131731.112296  63797.359075\n",
       "5    118941.879737  74832.295665"
      ]
     },
     "execution_count": 28,
     "metadata": {},
     "output_type": "execute_result"
    }
   ],
   "source": [
    "income_by_for.head()"
   ]
  },
  {
   "cell_type": "code",
   "execution_count": 29,
   "id": "d73adc4c",
   "metadata": {},
   "outputs": [],
   "source": [
    "income_by_for = income_by_for.add_prefix('ing_')"
   ]
  },
  {
   "cell_type": "code",
   "execution_count": 30,
   "id": "d28dad84",
   "metadata": {},
   "outputs": [
    {
     "data": {
      "text/html": [
       "<div>\n",
       "<style scoped>\n",
       "    .dataframe tbody tr th:only-of-type {\n",
       "        vertical-align: middle;\n",
       "    }\n",
       "\n",
       "    .dataframe tbody tr th {\n",
       "        vertical-align: top;\n",
       "    }\n",
       "\n",
       "    .dataframe thead th {\n",
       "        text-align: right;\n",
       "    }\n",
       "</style>\n",
       "<table border=\"1\" class=\"dataframe\">\n",
       "  <thead>\n",
       "    <tr style=\"text-align: right;\">\n",
       "      <th></th>\n",
       "      <th>ing_informal</th>\n",
       "      <th>ing_formal</th>\n",
       "    </tr>\n",
       "    <tr>\n",
       "      <th>ent</th>\n",
       "      <th></th>\n",
       "      <th></th>\n",
       "    </tr>\n",
       "  </thead>\n",
       "  <tbody>\n",
       "    <tr>\n",
       "      <th>1</th>\n",
       "      <td>104464.590258</td>\n",
       "      <td>67087.653846</td>\n",
       "    </tr>\n",
       "  </tbody>\n",
       "</table>\n",
       "</div>"
      ],
      "text/plain": [
       "      ing_informal    ing_formal\n",
       "ent                             \n",
       "1    104464.590258  67087.653846"
      ]
     },
     "execution_count": 30,
     "metadata": {},
     "output_type": "execute_result"
    }
   ],
   "source": [
    "income_by_for.head(1)"
   ]
  },
  {
   "cell_type": "markdown",
   "id": "bc52e87b",
   "metadata": {},
   "source": [
    "## Concatenate"
   ]
  },
  {
   "cell_type": "code",
   "execution_count": 31,
   "id": "cd7d2497",
   "metadata": {},
   "outputs": [],
   "source": [
    "dataframe = pd.concat([income_by_for,eu_size_pct,formal_pct], axis=1)"
   ]
  },
  {
   "cell_type": "code",
   "execution_count": 32,
   "id": "a87f13c6",
   "metadata": {},
   "outputs": [
    {
     "data": {
      "text/plain": [
       "(32, 11)"
      ]
     },
     "execution_count": 32,
     "metadata": {},
     "output_type": "execute_result"
    }
   ],
   "source": [
    "dataframe.shape"
   ]
  },
  {
   "cell_type": "markdown",
   "id": "f49bfbb4",
   "metadata": {},
   "source": [
    "## Final details"
   ]
  },
  {
   "cell_type": "code",
   "execution_count": 33,
   "id": "4a567c82",
   "metadata": {},
   "outputs": [
    {
     "data": {
      "text/html": [
       "<div>\n",
       "<style scoped>\n",
       "    .dataframe tbody tr th:only-of-type {\n",
       "        vertical-align: middle;\n",
       "    }\n",
       "\n",
       "    .dataframe tbody tr th {\n",
       "        vertical-align: top;\n",
       "    }\n",
       "\n",
       "    .dataframe thead th {\n",
       "        text-align: right;\n",
       "    }\n",
       "</style>\n",
       "<table border=\"1\" class=\"dataframe\">\n",
       "  <thead>\n",
       "    <tr style=\"text-align: right;\">\n",
       "      <th></th>\n",
       "      <th>ing_informal</th>\n",
       "      <th>ing_formal</th>\n",
       "      <th>pct_0</th>\n",
       "      <th>pct_gobierno</th>\n",
       "      <th>pct_grandes</th>\n",
       "      <th>pct_medianos</th>\n",
       "      <th>pct_micronegocios</th>\n",
       "      <th>pct_otros</th>\n",
       "      <th>pct_pequeños</th>\n",
       "      <th>pct_pob_informal</th>\n",
       "      <th>pct_pob_formal</th>\n",
       "    </tr>\n",
       "    <tr>\n",
       "      <th>ent</th>\n",
       "      <th></th>\n",
       "      <th></th>\n",
       "      <th></th>\n",
       "      <th></th>\n",
       "      <th></th>\n",
       "      <th></th>\n",
       "      <th></th>\n",
       "      <th></th>\n",
       "      <th></th>\n",
       "      <th></th>\n",
       "      <th></th>\n",
       "    </tr>\n",
       "  </thead>\n",
       "  <tbody>\n",
       "    <tr>\n",
       "      <th>1</th>\n",
       "      <td>104464.590258</td>\n",
       "      <td>67087.653846</td>\n",
       "      <td>0.173641</td>\n",
       "      <td>0.050554</td>\n",
       "      <td>0.160371</td>\n",
       "      <td>0.089140</td>\n",
       "      <td>0.326359</td>\n",
       "      <td>0.041924</td>\n",
       "      <td>0.158010</td>\n",
       "      <td>0.568219</td>\n",
       "      <td>0.431781</td>\n",
       "    </tr>\n",
       "    <tr>\n",
       "      <th>2</th>\n",
       "      <td>129140.476706</td>\n",
       "      <td>89785.501654</td>\n",
       "      <td>0.096170</td>\n",
       "      <td>0.024877</td>\n",
       "      <td>0.237459</td>\n",
       "      <td>0.103258</td>\n",
       "      <td>0.333424</td>\n",
       "      <td>0.040076</td>\n",
       "      <td>0.164736</td>\n",
       "      <td>0.629089</td>\n",
       "      <td>0.370911</td>\n",
       "    </tr>\n",
       "    <tr>\n",
       "      <th>3</th>\n",
       "      <td>148955.458659</td>\n",
       "      <td>94623.700068</td>\n",
       "      <td>0.115907</td>\n",
       "      <td>0.090909</td>\n",
       "      <td>0.074215</td>\n",
       "      <td>0.103884</td>\n",
       "      <td>0.375919</td>\n",
       "      <td>0.052504</td>\n",
       "      <td>0.186662</td>\n",
       "      <td>0.619324</td>\n",
       "      <td>0.380676</td>\n",
       "    </tr>\n",
       "    <tr>\n",
       "      <th>4</th>\n",
       "      <td>131731.112296</td>\n",
       "      <td>63797.359075</td>\n",
       "      <td>0.129656</td>\n",
       "      <td>0.076346</td>\n",
       "      <td>0.058032</td>\n",
       "      <td>0.088041</td>\n",
       "      <td>0.404457</td>\n",
       "      <td>0.056178</td>\n",
       "      <td>0.187290</td>\n",
       "      <td>0.446823</td>\n",
       "      <td>0.553177</td>\n",
       "    </tr>\n",
       "    <tr>\n",
       "      <th>5</th>\n",
       "      <td>118941.879737</td>\n",
       "      <td>74832.295665</td>\n",
       "      <td>0.038867</td>\n",
       "      <td>0.033200</td>\n",
       "      <td>0.245414</td>\n",
       "      <td>0.139098</td>\n",
       "      <td>0.331836</td>\n",
       "      <td>0.038993</td>\n",
       "      <td>0.172592</td>\n",
       "      <td>0.645666</td>\n",
       "      <td>0.354334</td>\n",
       "    </tr>\n",
       "  </tbody>\n",
       "</table>\n",
       "</div>"
      ],
      "text/plain": [
       "      ing_informal    ing_formal     pct_0  pct_gobierno  pct_grandes  \\\n",
       "ent                                                                     \n",
       "1    104464.590258  67087.653846  0.173641      0.050554     0.160371   \n",
       "2    129140.476706  89785.501654  0.096170      0.024877     0.237459   \n",
       "3    148955.458659  94623.700068  0.115907      0.090909     0.074215   \n",
       "4    131731.112296  63797.359075  0.129656      0.076346     0.058032   \n",
       "5    118941.879737  74832.295665  0.038867      0.033200     0.245414   \n",
       "\n",
       "     pct_medianos  pct_micronegocios  pct_otros  pct_pequeños  \\\n",
       "ent                                                             \n",
       "1        0.089140           0.326359   0.041924      0.158010   \n",
       "2        0.103258           0.333424   0.040076      0.164736   \n",
       "3        0.103884           0.375919   0.052504      0.186662   \n",
       "4        0.088041           0.404457   0.056178      0.187290   \n",
       "5        0.139098           0.331836   0.038993      0.172592   \n",
       "\n",
       "     pct_pob_informal  pct_pob_formal  \n",
       "ent                                    \n",
       "1            0.568219        0.431781  \n",
       "2            0.629089        0.370911  \n",
       "3            0.619324        0.380676  \n",
       "4            0.446823        0.553177  \n",
       "5            0.645666        0.354334  "
      ]
     },
     "execution_count": 33,
     "metadata": {},
     "output_type": "execute_result"
    }
   ],
   "source": [
    "dataframe.head()"
   ]
  },
  {
   "cell_type": "code",
   "execution_count": 34,
   "id": "2dbd6e13",
   "metadata": {},
   "outputs": [],
   "source": [
    "dataframe['anio'] = 2021"
   ]
  },
  {
   "cell_type": "code",
   "execution_count": 35,
   "id": "cf75713a",
   "metadata": {},
   "outputs": [],
   "source": [
    "dataframe['anio_text'] = dataframe['anio'].astype(str)"
   ]
  },
  {
   "cell_type": "code",
   "execution_count": 36,
   "id": "4dca5c92",
   "metadata": {},
   "outputs": [],
   "source": [
    "dataframe['ent_text'] = dataframe.index.astype(str)"
   ]
  },
  {
   "cell_type": "code",
   "execution_count": 37,
   "id": "c47725cb",
   "metadata": {},
   "outputs": [],
   "source": [
    "dataframe['unique'] = dataframe['anio_text'] + '-' + dataframe['ent_text']"
   ]
  },
  {
   "cell_type": "code",
   "execution_count": 38,
   "id": "c6a6de54",
   "metadata": {},
   "outputs": [],
   "source": [
    "dataframe = dataframe.drop(['anio_text','ent_text'], axis=1)"
   ]
  },
  {
   "cell_type": "code",
   "execution_count": 39,
   "id": "e15f9a4c",
   "metadata": {},
   "outputs": [],
   "source": [
    "dataframe.to_csv('2021_emp.csv')"
   ]
  }
 ],
 "metadata": {
  "kernelspec": {
   "display_name": "Python (whatever you want to call it)",
   "language": "python",
   "name": "keras_env"
  },
  "language_info": {
   "codemirror_mode": {
    "name": "ipython",
    "version": 3
   },
   "file_extension": ".py",
   "mimetype": "text/x-python",
   "name": "python",
   "nbconvert_exporter": "python",
   "pygments_lexer": "ipython3",
   "version": "3.8.5"
  }
 },
 "nbformat": 4,
 "nbformat_minor": 5
}
